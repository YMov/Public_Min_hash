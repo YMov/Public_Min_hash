{
 "cells": [
  {
   "cell_type": "code",
   "execution_count": 76,
   "metadata": {
    "scrolled": false
   },
   "outputs": [],
   "source": [
    "#PART IA\n",
    "\n",
    "import pandas as pd\n",
    "import numpy as np\n",
    "\n",
    "def parse_data(filename):\n",
    "    A=[]\n",
    "    text_file = open(filename, \"r\")\n",
    "    lines = text_file.readlines()\n",
    "    text_file.close()\n",
    "    for i in range(0,len(lines)):\n",
    "        id = lines[i].split(' ', 1)[0]\n",
    "        string = lines[i].split(' ', 1)[1]\n",
    "        rem_string = ''.join(e for e in string if e.isalnum()).lower()\n",
    "        tupool = (id,rem_string)\n",
    "        A.append(tupool)\n",
    "    return A\n"
   ]
  },
  {
   "cell_type": "code",
   "execution_count": 132,
   "metadata": {
    "scrolled": false
   },
   "outputs": [],
   "source": [
    "#PART IB\n",
    "import binascii\n",
    "\n",
    "def shingle_document(string, k):\n",
    "    word=string\n",
    "    ShinglesHash = set()\n",
    "    shingles = [word[i:i+k] for i in range(0, len(word), k)]\n",
    "    for i in shingles:\n",
    "        crc = binascii.crc32(str.encode(i)) & 0xffffffff\n",
    "        ShinglesHash.add(crc)\n",
    "    return ShinglesHash\n",
    "    "
   ]
  },
  {
   "cell_type": "code",
   "execution_count": 134,
   "metadata": {},
   "outputs": [],
   "source": [
    "#PART IC\n",
    "def jaccard(a, b):\n",
    "    \n",
    "    intersectionsize=len(a.intersection(b))\n",
    "    unionsize=len(a.union(b))\n",
    "    JS=intersectionsize/unionsize\n",
    "    return JS\n",
    "    "
   ]
  },
  {
   "cell_type": "code",
   "execution_count": 174,
   "metadata": {},
   "outputs": [],
   "source": [
    "#PART ID\n",
    "\n",
    "def plagiarism(loc,k):\n",
    "    DATA = parse_data(loc)\n",
    "    results=[]\n",
    "    SimilarityTreshold=0.8    #Defining Similarity Treshold\n",
    "    for i in range(0,len(DATA)):\n",
    "        for j in range(i+1,len(DATA)):\n",
    "            a=shingle_document(DATA[i][1],k)\n",
    "            b=shingle_document(DATA[j][1],k)\n",
    "            s=jaccard(a,b)              # Calling Jaccard\n",
    "            aID=DATA[i][0]\n",
    "            bID=DATA[j][0]\n",
    "            if s>=SimilarityTreshold:  #Defining Class\n",
    "                klass='Y'\n",
    "            else:\n",
    "                klass='N'\n",
    "            results.append((aID,bID,s,klass))\n",
    "\n",
    "    return results"
   ]
  },
  {
   "cell_type": "code",
   "execution_count": 204,
   "metadata": {},
   "outputs": [
    {
     "data": {
      "image/png": "[encoded data removed]",
      "text/plain": [
       "<Figure size 432x288 with 1 Axes>"
      ]
     },
     "metadata": {},
     "output_type": "display_data"
    }
   ],
   "source": [
    "#PART IE\n",
    "import numpy as np\n",
    "from functools import reduce\n",
    "import matplotlib.pyplot as plot\n",
    "\n",
    "Location=r'C:\\Users\\yazdan\\Desktop\\MinHash-master\\MinHash-master\\data\\articles_100.train'\n",
    "\n",
    "AVGY=[]\n",
    "AVGX=[]\n",
    "for i in range(1,20):             # Defining range of K\n",
    "    this_plagiarism = plagiarism(Location,i);\n",
    "    summationY = 0\n",
    "    summationX = 0\n",
    "    NX = 0                        #Initial value for # of NOT Plagiarism\n",
    "    NY = 0                        #Initial value for # of Plagiarism\n",
    "    \n",
    "    # Classifying items\n",
    "    for item in this_plagiarism:\n",
    "        if item[3]=='Y':\n",
    "            NY = NY + 1\n",
    "            summationY = summationY + item[2]  # Plagiarism\n",
    "        else:\n",
    "            NX = NX + 1\n",
    "            summationX = summationX + item[2]  # NOT Plagiarism\n",
    "    if NY == 0: NY = 1\n",
    "    if NX == 0: NX = 1\n",
    "    avgY = summationY/NY\n",
    "    avgX = summationX/NX\n",
    "    AVGY.append(avgY)\n",
    "    AVGX.append(avgX)\n",
    "    \n",
    "plot.scatter(range(1,20),AVGX,label='Not Plagiarism (N)')\n",
    "plot.scatter(range(1,20),AVGY, label='Plagiarism (Y)')\n",
    "plot.legend()\n",
    "plot.xlabel('K')\n",
    "plot.ylabel('Average JS')\n",
    "plot.xticks(np.arange(1, 20, step=1))\n",
    "plot.show()\n"
   ]
  }
 ],
 "metadata": {
  "kernelspec": {
   "display_name": "Python 3",
   "language": "python",
   "name": "python3"
  },
  "language_info": {
   "codemirror_mode": {
    "name": "ipython",
    "version": 3
   },
   "file_extension": ".py",
   "mimetype": "text/x-python",
   "name": "python",
   "nbconvert_exporter": "python",
   "pygments_lexer": "ipython3",
   "version": "3.6.5"
  }
 },
 "nbformat": 4,
 "nbformat_minor": 2
}
