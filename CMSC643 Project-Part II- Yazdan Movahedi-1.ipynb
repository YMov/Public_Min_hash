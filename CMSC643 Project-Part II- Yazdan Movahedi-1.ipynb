{
 "cells": [
  {
   "cell_type": "code",
   "execution_count": 23,
   "metadata": {
    "scrolled": false
   },
   "outputs": [],
   "source": [
    "#Part II\n",
    "\n",
    "#Data Preparation (From Part I)\n",
    "\n",
    "import pandas as pd\n",
    "import numpy as np\n",
    "\n",
    "def parse_data(filename):\n",
    "    A=[]\n",
    "    text_file = open(filename, \"r\")\n",
    "    lines = text_file.readlines()\n",
    "    text_file.close()\n",
    "    for i in range(0,len(lines)):\n",
    "        id = lines[i].split(' ', 1)[0]\n",
    "        string = lines[i].split(' ', 1)[1]\n",
    "        rem_string = ''.join(e for e in string if e.isalnum()).lower()\n",
    "        tupool = (id,rem_string)\n",
    "        A.append(tupool)\n",
    "    return A\n"
   ]
  },
  {
   "cell_type": "code",
   "execution_count": 24,
   "metadata": {
    "scrolled": false
   },
   "outputs": [],
   "source": [
    "#Shingle (From Part I)\n",
    "import binascii\n",
    "\n",
    "def shingle_document(string, k):\n",
    "    word=string\n",
    "    ShinglesHash = set()\n",
    "    shingles = [word[i:i+k] for i in range(0, len(word)-k+1) if len(word[i])<k+1]\n",
    "    for i in shingles:\n",
    "        crc = binascii.crc32(str.encode(i)) & 0xffffffff\n",
    "        ShinglesHash.add(crc)\n",
    "    return ShinglesHash\n",
    "    "
   ]
  },
  {
   "cell_type": "code",
   "execution_count": 25,
   "metadata": {},
   "outputs": [],
   "source": [
    "#Jaccard (From Part I)\n",
    "def jaccard(a, b):\n",
    "    \n",
    "    intersectionsize=len(a.intersection(b))\n",
    "    unionsize=len(a.union(b))\n",
    "    JS=intersectionsize/unionsize\n",
    "    return JS\n",
    "    "
   ]
  },
  {
   "cell_type": "code",
   "execution_count": 26,
   "metadata": {},
   "outputs": [],
   "source": [
    "#Part II\n",
    "\n",
    "#Part IIA\n",
    "\n",
    "def invert_shingles(shingled_documents):\n",
    "    invert_item = []\n",
    "    aIDs = []\n",
    "    \n",
    "    for (aID, shingles) in shingled_documents:\n",
    "        aIDs.append(aID)\n",
    "        for s in shingles:\n",
    "            item = (s, aID)\n",
    "            invert_item.append(item)\n",
    "    results=sorted(invert_item),aIDs\n",
    "    return results\n"
   ]
  },
  {
   "cell_type": "code",
   "execution_count": 27,
   "metadata": {},
   "outputs": [],
   "source": [
    "#Part IIB\n",
    "\n",
    "#Make Random Hashes\n",
    "\n",
    "import random\n",
    "\n",
    "def make_random_hash_fn(p=2**33-355, m=4294967295):\n",
    "    a = random.randint(1,p-1)\n",
    "    b = random.randint(0, p-1)\n",
    "    return lambda x: ((a * x + b) % p) % m\n"
   ]
  },
  {
   "cell_type": "code",
   "execution_count": 40,
   "metadata": {},
   "outputs": [],
   "source": [
    "#Part IIC\n",
    "import numpy\n",
    "\n",
    "def make_minhash_signature(shingled_data, num_hashes):\n",
    "    make_hashes=make_random_hash_fn()\n",
    "    inv_index, docids = invert_shingles(shingled_data)\n",
    "    num_docs = len(docids)\n",
    "  \n",
    "  # initialize the signature matrix with infinity in every entry\n",
    "    sigmatrix = np.full([num_hashes, num_docs], np.inf)\n",
    "  \n",
    "  # generate hash functions\n",
    "    hash_funcs = make_hashes(num_hashes)\n",
    "  \n",
    "  # iterate over each non-zero entry of the characteristic matrix\n",
    "    for row, docid in inv_index:\n",
    "    # update signature matrix if needed \n",
    "        hashvals=[h(row) for h in hash_funcs]\n",
    "        j=docids.index(docid)\n",
    "    \n",
    "        for i in range(num_hashes):\n",
    "            if hashvals[i]<sigmatrix[i,j]:\n",
    "                sigmatrix[i,j]=hashvals[i]\n",
    "    # THIS IS WHAT YOU NEED TO IMPLEMENT\n",
    "  \n",
    "    return sigmatrix, docids\n",
    "\n",
    "\n"
   ]
  },
  {
   "cell_type": "code",
   "execution_count": 44,
   "metadata": {},
   "outputs": [],
   "source": [
    "#Part IIC\n",
    "\n",
    "def minhash_similarity(id1, id2, minhash_sigmat, docids):\n",
    "    \n",
    "    \n",
    "    # get column of the similarity matrix for the two documents\n",
    "    i=docids.index(id1)\n",
    "    j=docids.index(id2)\n",
    "    a=minhash_sigmat[:,i]\n",
    "    b=minhash_sigmat[:,j]\n",
    "            \n",
    "            # calculate the fraction of rows where two columns match\n",
    "    fraction = jaccard(a,b)\n",
    "    \n",
    "           \n",
    "    # return this fraction as the minhash similarity estimate\n",
    "    return fraction\n",
    "  \n",
    "\n"
   ]
  },
  {
   "cell_type": "code",
   "execution_count": 49,
   "metadata": {},
   "outputs": [
    {
     "ename": "TypeError",
     "evalue": "'list' object cannot be interpreted as an integer",
     "output_type": "error",
     "traceback": [
      "\u001b[1;31m---------------------------------------------------------------------------\u001b[0m",
      "\u001b[1;31mTypeError\u001b[0m                                 Traceback (most recent call last)",
      "\u001b[1;32m<ipython-input-49-8289db146de5>\u001b[0m in \u001b[0;36m<module>\u001b[1;34m()\u001b[0m\n\u001b[0;32m     22\u001b[0m \u001b[1;32mfor\u001b[0m \u001b[0mN\u001b[0m \u001b[1;32min\u001b[0m \u001b[0mnum_hashes\u001b[0m\u001b[1;33m:\u001b[0m\u001b[1;33m\u001b[0m\u001b[0m\n\u001b[0;32m     23\u001b[0m \u001b[1;33m\u001b[0m\u001b[0m\n\u001b[1;32m---> 24\u001b[1;33m     \u001b[0msigmat\u001b[0m\u001b[1;33m,\u001b[0m\u001b[0mdocids\u001b[0m\u001b[1;33m=\u001b[0m\u001b[0mmake_minhash_signature\u001b[0m\u001b[1;33m(\u001b[0m\u001b[0mtoople\u001b[0m\u001b[1;33m,\u001b[0m\u001b[0mnum_hashes\u001b[0m\u001b[1;33m)\u001b[0m\u001b[1;33m\u001b[0m\u001b[0m\n\u001b[0m\u001b[0;32m     25\u001b[0m \u001b[1;33m\u001b[0m\u001b[0m\n\u001b[0;32m     26\u001b[0m     \u001b[1;32mfor\u001b[0m \u001b[0mi\u001b[0m \u001b[1;32min\u001b[0m \u001b[0mrange\u001b[0m\u001b[1;33m(\u001b[0m\u001b[1;36m0\u001b[0m\u001b[1;33m,\u001b[0m\u001b[0mlen\u001b[0m\u001b[1;33m(\u001b[0m\u001b[0mDATA\u001b[0m\u001b[1;33m)\u001b[0m\u001b[1;33m)\u001b[0m\u001b[1;33m:\u001b[0m\u001b[1;33m\u001b[0m\u001b[0m\n",
      "\u001b[1;32m<ipython-input-40-6c13998c4341>\u001b[0m in \u001b[0;36mmake_minhash_signature\u001b[1;34m(shingled_data, num_hashes)\u001b[0m\n\u001b[0;32m      8\u001b[0m \u001b[1;33m\u001b[0m\u001b[0m\n\u001b[0;32m      9\u001b[0m   \u001b[1;31m# initialize the signature matrix with infinity in every entry\u001b[0m\u001b[1;33m\u001b[0m\u001b[1;33m\u001b[0m\u001b[0m\n\u001b[1;32m---> 10\u001b[1;33m     \u001b[0msigmatrix\u001b[0m \u001b[1;33m=\u001b[0m \u001b[0mnp\u001b[0m\u001b[1;33m.\u001b[0m\u001b[0mfull\u001b[0m\u001b[1;33m(\u001b[0m\u001b[1;33m[\u001b[0m\u001b[0mnum_hashes\u001b[0m\u001b[1;33m,\u001b[0m \u001b[0mnum_docs\u001b[0m\u001b[1;33m]\u001b[0m\u001b[1;33m,\u001b[0m \u001b[0mnp\u001b[0m\u001b[1;33m.\u001b[0m\u001b[0minf\u001b[0m\u001b[1;33m)\u001b[0m\u001b[1;33m\u001b[0m\u001b[0m\n\u001b[0m\u001b[0;32m     11\u001b[0m \u001b[1;33m\u001b[0m\u001b[0m\n\u001b[0;32m     12\u001b[0m   \u001b[1;31m# generate hash functions\u001b[0m\u001b[1;33m\u001b[0m\u001b[1;33m\u001b[0m\u001b[0m\n",
      "\u001b[1;32m~\\AppData\\Local\\Continuum\\anaconda3\\lib\\site-packages\\numpy\\core\\numeric.py\u001b[0m in \u001b[0;36mfull\u001b[1;34m(shape, fill_value, dtype, order)\u001b[0m\n\u001b[0;32m    296\u001b[0m     \u001b[1;32mif\u001b[0m \u001b[0mdtype\u001b[0m \u001b[1;32mis\u001b[0m \u001b[1;32mNone\u001b[0m\u001b[1;33m:\u001b[0m\u001b[1;33m\u001b[0m\u001b[0m\n\u001b[0;32m    297\u001b[0m         \u001b[0mdtype\u001b[0m \u001b[1;33m=\u001b[0m \u001b[0marray\u001b[0m\u001b[1;33m(\u001b[0m\u001b[0mfill_value\u001b[0m\u001b[1;33m)\u001b[0m\u001b[1;33m.\u001b[0m\u001b[0mdtype\u001b[0m\u001b[1;33m\u001b[0m\u001b[0m\n\u001b[1;32m--> 298\u001b[1;33m     \u001b[0ma\u001b[0m \u001b[1;33m=\u001b[0m \u001b[0mempty\u001b[0m\u001b[1;33m(\u001b[0m\u001b[0mshape\u001b[0m\u001b[1;33m,\u001b[0m \u001b[0mdtype\u001b[0m\u001b[1;33m,\u001b[0m \u001b[0morder\u001b[0m\u001b[1;33m)\u001b[0m\u001b[1;33m\u001b[0m\u001b[0m\n\u001b[0m\u001b[0;32m    299\u001b[0m     \u001b[0mmultiarray\u001b[0m\u001b[1;33m.\u001b[0m\u001b[0mcopyto\u001b[0m\u001b[1;33m(\u001b[0m\u001b[0ma\u001b[0m\u001b[1;33m,\u001b[0m \u001b[0mfill_value\u001b[0m\u001b[1;33m,\u001b[0m \u001b[0mcasting\u001b[0m\u001b[1;33m=\u001b[0m\u001b[1;34m'unsafe'\u001b[0m\u001b[1;33m)\u001b[0m\u001b[1;33m\u001b[0m\u001b[0m\n\u001b[0;32m    300\u001b[0m     \u001b[1;32mreturn\u001b[0m \u001b[0ma\u001b[0m\u001b[1;33m\u001b[0m\u001b[0m\n",
      "\u001b[1;31mTypeError\u001b[0m: 'list' object cannot be interpreted as an integer"
     ]
    }
   ],
   "source": [
    "#Part IID\n",
    "\n",
    "import numpy as np\n",
    "from sklearn.metrics import mean_squared_error\n",
    "from math import sqrt\n",
    "import matplotlib.pyplot as plot\n",
    "\n",
    "Location=r'C:\\Users\\yazdan\\Desktop\\MinHash-master\\MinHash-master\\data\\articles_1000.train'\n",
    "\n",
    "DATA = parse_data(Location)\n",
    "toople=[]\n",
    "results=[]\n",
    "num_hashes=[10, 20, 30, 40, 50 ,60, 70, 80, 90, 100]\n",
    "rmse=[]\n",
    "k=10\n",
    "\n",
    "for i in range(0,len(DATA)):\n",
    "    a=shingle_document(DATA[i][1],10)\n",
    "    aID=DATA[i][0]\n",
    "    toople.append((aID,a))\n",
    "\n",
    "for N in num_hashes:\n",
    "\n",
    "    sigmat,docids=make_minhash_signature(toople,num_hashes)\n",
    "\n",
    "    for i in range(0,len(DATA)):\n",
    "        for j in range(i+1,len(DATA)):\n",
    "\n",
    "            id1=DATA[i][0]\n",
    "            id2=DATA[j][0]\n",
    "            MS=minhash_similarity(id1, id2,sigmat, docids) # Calling MinHash\n",
    "\n",
    "            a=shingle_document(DATA[i][1],k)\n",
    "            b=shingle_document(DATA[j][1],k)\n",
    "            JS=jaccard(a,b)       # Calling Jaccard\n",
    "\n",
    "            results.append((id1,id2,MS,JS))   #Table of Results\n",
    "\n",
    "    # RMSE Error\n",
    "\n",
    "    rmse.append = sqrt(mean_squared_error(JS, MS))\n",
    "    \n",
    "\n",
    "plot.scatter(num_hashes,rmse, label='Error Plot')    \n",
    "plot.legend()\n",
    "plot.xlabel('Num_Hashes')\n",
    "plot.ylabel('RMSE')\n",
    "plot.show()"
   ]
  },
  {
   "cell_type": "code",
   "execution_count": null,
   "metadata": {},
   "outputs": [],
   "source": []
  }
 ],
 "metadata": {
  "kernelspec": {
   "display_name": "Python 3",
   "language": "python",
   "name": "python3"
  },
  "language_info": {
   "codemirror_mode": {
    "name": "ipython",
    "version": 3
   },
   "file_extension": ".py",
   "mimetype": "text/x-python",
   "name": "python",
   "nbconvert_exporter": "python",
   "pygments_lexer": "ipython3",
   "version": "3.6.5"
  }
 },
 "nbformat": 4,
 "nbformat_minor": 2
}
