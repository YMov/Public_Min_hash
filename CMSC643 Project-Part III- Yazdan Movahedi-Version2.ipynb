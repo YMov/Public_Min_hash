{
 "cells": [
  {
   "cell_type": "code",
   "execution_count": 23,
   "metadata": {
    "scrolled": false
   },
   "outputs": [],
   "source": [
    "#Part II\n",
    "\n",
    "#Data Preparation (From Part I)\n",
    "\n",
    "import pandas as pd\n",
    "import numpy as np\n",
    "\n",
    "def parse_data(filename):\n",
    "    A=[]\n",
    "    text_file = open(filename, \"r\")\n",
    "    lines = text_file.readlines()\n",
    "    text_file.close()\n",
    "    for i in range(0,len(lines)):\n",
    "        id = lines[i].split(' ', 1)[0]\n",
    "        string = lines[i].split(' ', 1)[1]\n",
    "        rem_string = ''.join(e for e in string if e.isalnum()).lower()\n",
    "        tupool = (id,rem_string)\n",
    "        A.append(tupool)\n",
    "    return A\n"
   ]
  },
  {
   "cell_type": "code",
   "execution_count": 24,
   "metadata": {
    "scrolled": false
   },
   "outputs": [],
   "source": [
    "#Shingle (From Part I)\n",
    "import binascii\n",
    "\n",
    "def shingle_document(string, k):\n",
    "    word=string\n",
    "    ShinglesHash = set()\n",
    "    shingles = [word[i:i+k] for i in range(0, len(word)-k+1) if len(word[i])<k+1]\n",
    "    for i in shingles:\n",
    "        crc = binascii.crc32(str.encode(i)) & 0xffffffff\n",
    "        ShinglesHash.add(crc)\n",
    "    return ShinglesHash\n",
    "    "
   ]
  },
  {
   "cell_type": "code",
   "execution_count": 25,
   "metadata": {},
   "outputs": [],
   "source": [
    "#Jaccard (From Part I)\n",
    "def jaccard(a, b):\n",
    "    \n",
    "    intersectionsize=len(a.intersection(b))\n",
    "    unionsize=len(a.union(b))\n",
    "    JS=intersectionsize/unionsize\n",
    "    return JS\n",
    "    "
   ]
  },
  {
   "cell_type": "code",
   "execution_count": 26,
   "metadata": {},
   "outputs": [],
   "source": [
    "\n",
    "#Part Invert_shingles(From Part II)\n",
    "\n",
    "def invert_shingles(shingled_documents):\n",
    "    invert_item = []\n",
    "    aIDs = []\n",
    "    \n",
    "    for (aID, shingles) in shingled_documents:\n",
    "        aIDs.append(aID)\n",
    "        for s in shingles:\n",
    "            item = (s, aID)\n",
    "            invert_item.append(item)\n",
    "    results=sorted(invert_item),aIDs\n",
    "    return results\n"
   ]
  },
  {
   "cell_type": "code",
   "execution_count": 27,
   "metadata": {},
   "outputs": [],
   "source": [
    "\n",
    "#Make Random Hashes (From Part II)\n",
    "\n",
    "import random\n",
    "\n",
    "def make_random_hash_fn(p=2**33-355, m=4294967295):\n",
    "    a = random.randint(1,p-1)\n",
    "    b = random.randint(0, p-1)\n",
    "    return lambda x: ((a * x + b) % p) % m\n"
   ]
  },
  {
   "cell_type": "code",
   "execution_count": 40,
   "metadata": {},
   "outputs": [],
   "source": [
    "\n",
    "#Minhash Matrix (From Part II)\n",
    "\n",
    "\n",
    "import numpy\n",
    "\n",
    "def make_minhash_signature(shingled_data, num_hashes):\n",
    "    make_hashes=make_random_hash_fn()\n",
    "    inv_index, docids = invert_shingles(shingled_data)\n",
    "    num_docs = len(docids)\n",
    "  \n",
    "  # initialize the signature matrix with infinity in every entry\n",
    "    sigmatrix = np.full([num_hashes, num_docs], np.inf)\n",
    "  \n",
    "  # generate hash functions\n",
    "    hash_funcs = make_hashes(num_hashes)\n",
    "  \n",
    "  # iterate over each non-zero entry of the characteristic matrix\n",
    "    for row, docid in inv_index:\n",
    "    # update signature matrix if needed \n",
    "        hashvals=[h(row) for h in hash_funcs]\n",
    "        j=docids.index(docid)\n",
    "    \n",
    "        for i in range(num_hashes):\n",
    "            if hashvals[i]<sigmatrix[i,j]:\n",
    "                sigmatrix[i,j]=hashvals[i]\n",
    "    # THIS IS WHAT YOU NEED TO IMPLEMENT\n",
    "  \n",
    "    return sigmatrix, docids\n",
    "\n",
    "\n"
   ]
  },
  {
   "cell_type": "code",
   "execution_count": 44,
   "metadata": {},
   "outputs": [],
   "source": [
    "#Similarity_Minhash(From Part II)\n",
    "\n",
    "def minhash_similarity(id1, id2, minhash_sigmat, docids):\n",
    "    \n",
    "    \n",
    "    # get column of the similarity matrix for the two documents\n",
    "    i=docids.index(id1)\n",
    "    j=docids.index(id2)\n",
    "    a=minhash_sigmat[:,i]\n",
    "    b=minhash_sigmat[:,j]\n",
    "            \n",
    "            # calculate the fraction of rows where two columns match\n",
    "    fraction = jaccard(a,b)\n",
    "    \n",
    "           \n",
    "    # return this fraction as the minhash similarity estimate\n",
    "    return fraction\n",
    "  \n",
    "\n"
   ]
  },
  {
   "cell_type": "code",
   "execution_count": null,
   "metadata": {},
   "outputs": [],
   "source": [
    "#Part III\n",
    "\n",
    "#Choosing Number of Bands\n",
    "\n",
    "import scipy.optimize as opt\n",
    "import math\n",
    "\n",
    "def _choose_nbands(t, n):\n",
    "    def _error_fun(x):\n",
    "        cur_t = (1/x[0])**(x[0]/n)\n",
    "        return (t-cur_t)**2\n",
    "\n",
    "    opt_res = opt.minimize(error_fun, x0=(10), method='Nelder-Mead')\n",
    "    b = int(math.ceil(res['x'][0]))\n",
    "    r = int(n / b)\n",
    "    final_t = (1/b)**(1/r)\n",
    "    return b, final_t\n"
   ]
  },
  {
   "cell_type": "code",
   "execution_count": null,
   "metadata": {},
   "outputs": [],
   "source": [
    "# Hash a vector\n",
    "\n",
    "def _make_vector_hash(num_hashes, m=4294967295):\n",
    "    hash_fns = make_hashes(num_hashes)\n",
    "    def _f(vec):\n",
    "        acc = 0\n",
    "        for i in range(len(vec)):\n",
    "            h = hash_fns[i]\n",
    "            acc += h(vec[i])\n",
    "        return acc % m\n",
    "    return _f"
   ]
  },
  {
   "cell_type": "code",
   "execution_count": 3,
   "metadata": {},
   "outputs": [],
   "source": [
    "# LSH\n",
    "\n",
    "from collections import defaultdict\n",
    "\n",
    "def do_lsh(minhash_sigmatrix, numhashes, docids, threshold):\n",
    "  # choose the number of bands, and rows per band to use in LSH\n",
    "    b, _ = _choose_nbands(threshold, numhashes)\n",
    "    r = int(numhashes / b)\n",
    "\n",
    "    narticles = len(docids)\n",
    " \n",
    "  # generate a random hash function that takes vectors of lenght r as input\n",
    "    hash_func = _make_vector_hash(r)\n",
    "\n",
    "  # setup the list of hashtables, will be populated with one hashtable per band\n",
    "    buckets = []\n",
    "\n",
    "  # fill hash tables for each band\n",
    "    for band in range(b):\n",
    "     # figure out which rows of minhash signature matrix to hash for this band\n",
    "        start_index = int(band * r)\n",
    "        end_index = min(start_index + r, numhashes)\n",
    "\n",
    "    # initialize hashtable for this band\n",
    "        cur_buckets = defaultdict(list)\n",
    "    \n",
    "        for j in range(narticles):\n",
    "            # THIS IS WHAT YOU NEED TO IMPLEMENT\n",
    "            hashe= minhash_sigmatrix[start_index:end_index, j] \n",
    "            hash_band_val = hash_func(hashe)\n",
    "            dID = docids[j]\n",
    "            cur_buckets[hash_band_val].append(dID)\n",
    "      \n",
    "\n",
    "    # add this hashtable to the list of hashtables\n",
    "            buckets.append(cur_buckets)\n",
    "\n",
    "    return buckets"
   ]
  },
  {
   "cell_type": "code",
   "execution_count": null,
   "metadata": {},
   "outputs": [],
   "source": [
    "#Find candidate similar article pairs\n",
    "\n",
    "import itertools\n",
    "\n",
    "def pairs(buckets):\n",
    "    results = []\n",
    "    \n",
    "    for i in buckets:\n",
    "        for (k, SIDs) in i.items():\n",
    "            sorIDs = sorted(SIDs)\n",
    "            docs = list(itertools.combinations(sorIDs,2))\n",
    "            for pair in doc_combinations:\n",
    "                results.append(pair)\n",
    "    \n",
    "    return list(pairs)\n",
    "\n"
   ]
  },
  {
   "cell_type": "code",
   "execution_count": 4,
   "metadata": {},
   "outputs": [
    {
     "ename": "NameError",
     "evalue": "name 'parse_data' is not defined",
     "output_type": "error",
     "traceback": [
      "\u001b[1;31m---------------------------------------------------------------------------\u001b[0m",
      "\u001b[1;31mNameError\u001b[0m                                 Traceback (most recent call last)",
      "\u001b[1;32m<ipython-input-4-c8fdb79cabaf>\u001b[0m in \u001b[0;36m<module>\u001b[1;34m()\u001b[0m\n\u001b[0;32m      8\u001b[0m \u001b[0mLocation\u001b[0m\u001b[1;33m=\u001b[0m\u001b[1;34mr'C:\\Users\\yazdan\\Desktop\\MinHash-master\\MinHash-master\\data\\articles_1000.train'\u001b[0m\u001b[1;33m\u001b[0m\u001b[0m\n\u001b[0;32m      9\u001b[0m \u001b[1;33m\u001b[0m\u001b[0m\n\u001b[1;32m---> 10\u001b[1;33m \u001b[0mDATA\u001b[0m \u001b[1;33m=\u001b[0m \u001b[0mparse_data\u001b[0m\u001b[1;33m(\u001b[0m\u001b[0mLocation\u001b[0m\u001b[1;33m)\u001b[0m\u001b[1;33m\u001b[0m\u001b[0m\n\u001b[0m\u001b[0;32m     11\u001b[0m \u001b[0mtoople\u001b[0m\u001b[1;33m=\u001b[0m\u001b[1;33m[\u001b[0m\u001b[1;33m]\u001b[0m\u001b[1;33m\u001b[0m\u001b[0m\n\u001b[0;32m     12\u001b[0m \u001b[0mresults\u001b[0m\u001b[1;33m=\u001b[0m\u001b[1;33m[\u001b[0m\u001b[1;33m]\u001b[0m\u001b[1;33m\u001b[0m\u001b[0m\n",
      "\u001b[1;31mNameError\u001b[0m: name 'parse_data' is not defined"
     ]
    }
   ],
   "source": [
    "# Main\n",
    "\n",
    "import numpy as np\n",
    "from sklearn.metrics import mean_squared_error\n",
    "from math import sqrt\n",
    "import matplotlib.pyplot as plot\n",
    "\n",
    "Location=r'C:\\Users\\yazdan\\Desktop\\MinHash-master\\MinHash-master\\data\\articles_1000.train'\n",
    "\n",
    "DATA = parse_data(Location)\n",
    "toople=[]\n",
    "results=[]\n",
    "num_hashes=100\n",
    "rmse=[]\n",
    "threshold=0.8\n",
    "k=10\n",
    "\n",
    "for i in range(0,len(DATA)):\n",
    "    a=shingle_document(DATA[i][1],10)\n",
    "    aID=DATA[i][0]\n",
    "    toople.append((aID,a))\n",
    "\n",
    "\n",
    "\n",
    "sigmat,docids=make_minhash_signature(toople,num_hashes)\n",
    "bucks=do_lsh(sigmat, numhashes, docids, threshold)\n",
    "candidate=pair(bucks)\n",
    "\n"
   ]
  },
  {
   "cell_type": "code",
   "execution_count": null,
   "metadata": {},
   "outputs": [],
   "source": []
  }
 ],
 "metadata": {
  "kernelspec": {
   "display_name": "Python 3",
   "language": "python",
   "name": "python3"
  },
  "language_info": {
   "codemirror_mode": {
    "name": "ipython",
    "version": 3
   },
   "file_extension": ".py",
   "mimetype": "text/x-python",
   "name": "python",
   "nbconvert_exporter": "python",
   "pygments_lexer": "ipython3",
   "version": "3.6.5"
  }
 },
 "nbformat": 4,
 "nbformat_minor": 2
}
